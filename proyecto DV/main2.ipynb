{
 "cells": [
  {
   "cell_type": "code",
   "execution_count": 1,
   "id": "692389fc-030b-46d1-9d22-30061aa4c895",
   "metadata": {},
   "outputs": [],
   "source": [
    "import requests\n",
    "from bs4 import BeautifulSoup\n",
    "import pandas as pd\n",
    "import matplotlib.pyplot as plt\n",
    "import numpy as np\n",
    "from selenium import webdriver\n",
    "from selenium.webdriver.common.keys import Keys\n",
    "from selenium.webdriver.common.action_chains import ActionChains\n",
    "from selenium.webdriver.support.ui import WebDriverWait\n",
    "from selenium.webdriver.support import expected_conditions as EC"
   ]
  },
  {
   "cell_type": "markdown",
   "id": "40a94c1a-732d-46f2-b8b6-c5a089cab4f1",
   "metadata": {},
   "source": [
    "# Mas ricos "
   ]
  },
  {
   "cell_type": "code",
   "execution_count": 2,
   "id": "9eea23c6-5f48-4036-aea6-b919081f71e0",
   "metadata": {},
   "outputs": [],
   "source": [
    "data =requests.get(\"https://forbes.co/2021/04/09/editors-picks/los-50-mas-ricos-del-mundo-2021/\")\n",
    "soup = BeautifulSoup(data.content, \"lxml\")"
   ]
  },
  {
   "cell_type": "code",
   "execution_count": 3,
   "id": "b0d548c3-b6d2-4b16-a554-29b2ce635d1c",
   "metadata": {},
   "outputs": [],
   "source": [
    "names= [x.text for x in soup.select(\"h2\")][1:17]\n",
    "fortuna= [x.text.replace('Fortuna: ',\"\").replace('US','') for x in soup.select(\"figure.wp-block-image + *\")][:16]\n",
    "pais= [x.text.replace('País: ',\"\") for x in soup.select(\"figure.wp-block-image + * + *\")][:16]\n",
    "dinero= [x.text.replace('Fortuna: US$',\"\").replace(' millones',\"\") for x in soup.select(\"figure.wp-block-image + *\")][:16]\n",
    "dinero= [float(x) for x in dinero]"
   ]
  },
  {
   "cell_type": "code",
   "execution_count": 4,
   "id": "01662b8f-e2da-4bb4-bcfc-531898dac952",
   "metadata": {
    "tags": []
   },
   "outputs": [
    {
     "data": {
      "text/html": [
       "<div>\n",
       "<style scoped>\n",
       "    .dataframe tbody tr th:only-of-type {\n",
       "        vertical-align: middle;\n",
       "    }\n",
       "\n",
       "    .dataframe tbody tr th {\n",
       "        vertical-align: top;\n",
       "    }\n",
       "\n",
       "    .dataframe thead th {\n",
       "        text-align: right;\n",
       "    }\n",
       "</style>\n",
       "<table border=\"1\" class=\"dataframe\">\n",
       "  <thead>\n",
       "    <tr style=\"text-align: right;\">\n",
       "      <th></th>\n",
       "      <th>nombres</th>\n",
       "      <th>fortuna (USD)</th>\n",
       "      <th>pais</th>\n",
       "    </tr>\n",
       "  </thead>\n",
       "  <tbody>\n",
       "    <tr>\n",
       "      <th>0</th>\n",
       "      <td>1. Jeff Bezos</td>\n",
       "      <td>$177.000 millones</td>\n",
       "      <td>Estados Unidos</td>\n",
       "    </tr>\n",
       "    <tr>\n",
       "      <th>1</th>\n",
       "      <td>2. Elon Musk</td>\n",
       "      <td>$151.000 millones</td>\n",
       "      <td>Estados Unidos.</td>\n",
       "    </tr>\n",
       "    <tr>\n",
       "      <th>2</th>\n",
       "      <td>3. Bernard Arnault y familia</td>\n",
       "      <td>$150.000 millones</td>\n",
       "      <td>Francia</td>\n",
       "    </tr>\n",
       "    <tr>\n",
       "      <th>3</th>\n",
       "      <td>4. Bill Gates</td>\n",
       "      <td>$124.000 millones</td>\n",
       "      <td>Estados Unidos</td>\n",
       "    </tr>\n",
       "    <tr>\n",
       "      <th>4</th>\n",
       "      <td>5. Mark Zuckerberg</td>\n",
       "      <td>$97.000 millones</td>\n",
       "      <td>Estados Unidos.</td>\n",
       "    </tr>\n",
       "    <tr>\n",
       "      <th>5</th>\n",
       "      <td>6. Warren Buffett</td>\n",
       "      <td>$96.000 millones</td>\n",
       "      <td>Estados Unidos.</td>\n",
       "    </tr>\n",
       "    <tr>\n",
       "      <th>6</th>\n",
       "      <td>7. Larry Ellison</td>\n",
       "      <td>$93.000 millones</td>\n",
       "      <td>Estados Unidos.</td>\n",
       "    </tr>\n",
       "    <tr>\n",
       "      <th>7</th>\n",
       "      <td>8. Larry Page</td>\n",
       "      <td>$91.500 millones</td>\n",
       "      <td>Estados Unidos.</td>\n",
       "    </tr>\n",
       "    <tr>\n",
       "      <th>8</th>\n",
       "      <td>9. Sergey Brin</td>\n",
       "      <td>$89.000 millones</td>\n",
       "      <td>Estados Unidos.</td>\n",
       "    </tr>\n",
       "    <tr>\n",
       "      <th>9</th>\n",
       "      <td>10. Mukesh Ambani</td>\n",
       "      <td>$84.500 millones</td>\n",
       "      <td>India.</td>\n",
       "    </tr>\n",
       "    <tr>\n",
       "      <th>10</th>\n",
       "      <td>11. Amancio Ortega</td>\n",
       "      <td>$77.000 millones</td>\n",
       "      <td>España</td>\n",
       "    </tr>\n",
       "    <tr>\n",
       "      <th>11</th>\n",
       "      <td>12. Francoise Bettencourt Meyers y familia</td>\n",
       "      <td>$73.600 millones</td>\n",
       "      <td>Francia</td>\n",
       "    </tr>\n",
       "    <tr>\n",
       "      <th>12</th>\n",
       "      <td>13. Zhong Shanshan</td>\n",
       "      <td>$68.900 millones</td>\n",
       "      <td>China</td>\n",
       "    </tr>\n",
       "    <tr>\n",
       "      <th>13</th>\n",
       "      <td>14. Steve Ballmer</td>\n",
       "      <td>$68.700 millones</td>\n",
       "      <td>Estados Unidos</td>\n",
       "    </tr>\n",
       "    <tr>\n",
       "      <th>14</th>\n",
       "      <td>15. Ma Huateng</td>\n",
       "      <td>$65.800 millones</td>\n",
       "      <td>China</td>\n",
       "    </tr>\n",
       "    <tr>\n",
       "      <th>15</th>\n",
       "      <td>16. Carlos Slim Helu y familia</td>\n",
       "      <td>$62.800 millones</td>\n",
       "      <td>México</td>\n",
       "    </tr>\n",
       "  </tbody>\n",
       "</table>\n",
       "</div>"
      ],
      "text/plain": [
       "                                       nombres      fortuna (USD)  \\\n",
       "0                                1. Jeff Bezos  $177.000 millones   \n",
       "1                                 2. Elon Musk  $151.000 millones   \n",
       "2                 3. Bernard Arnault y familia  $150.000 millones   \n",
       "3                                4. Bill Gates  $124.000 millones   \n",
       "4                           5. Mark Zuckerberg   $97.000 millones   \n",
       "5                            6. Warren Buffett   $96.000 millones   \n",
       "6                             7. Larry Ellison   $93.000 millones   \n",
       "7                                8. Larry Page   $91.500 millones   \n",
       "8                               9. Sergey Brin   $89.000 millones   \n",
       "9                            10. Mukesh Ambani   $84.500 millones   \n",
       "10                          11. Amancio Ortega   $77.000 millones   \n",
       "11  12. Francoise Bettencourt Meyers y familia   $73.600 millones   \n",
       "12                          13. Zhong Shanshan   $68.900 millones   \n",
       "13                           14. Steve Ballmer   $68.700 millones   \n",
       "14                              15. Ma Huateng   $65.800 millones   \n",
       "15              16. Carlos Slim Helu y familia   $62.800 millones   \n",
       "\n",
       "                pais  \n",
       "0     Estados Unidos  \n",
       "1    Estados Unidos.  \n",
       "2            Francia  \n",
       "3     Estados Unidos  \n",
       "4    Estados Unidos.  \n",
       "5   Estados Unidos.   \n",
       "6   Estados Unidos.   \n",
       "7   Estados Unidos.   \n",
       "8   Estados Unidos.   \n",
       "9             India.  \n",
       "10            España  \n",
       "11           Francia  \n",
       "12             China  \n",
       "13    Estados Unidos  \n",
       "14             China  \n",
       "15            México  "
      ]
     },
     "execution_count": 4,
     "metadata": {},
     "output_type": "execute_result"
    }
   ],
   "source": [
    "PDF= pd.DataFrame({'nombres':names, 'fortuna (USD)':fortuna, 'pais':pais})\n",
    "PDF"
   ]
  },
  {
   "cell_type": "code",
   "execution_count": 5,
   "id": "fa7858ae-fd4a-41ef-9a70-79e3abea1d62",
   "metadata": {},
   "outputs": [
    {
     "data": {
      "image/png": "[encoded data removed]",
      "text/plain": [
       "<Figure size 432x288 with 1 Axes>"
      ]
     },
     "metadata": {
      "needs_background": "light"
     },
     "output_type": "display_data"
    }
   ],
   "source": [
    "posiciones= [x for x in range(1,len(names)+1)]\n",
    "plt.bar(posiciones,dinero)\n",
    "plt.title(\"Mas ricos 2021\")\n",
    "plt.xlabel(\"top ricos\")\n",
    "plt.ylabel(\"Riquesa\")\n",
    "plt.savefig(\"Plot mas ricos 2021.jpg\")"
   ]
  },
  {
   "cell_type": "markdown",
   "id": "10214ed1-0028-4595-b3d8-cd02acdb64a8",
   "metadata": {},
   "source": [
    "# JOBS"
   ]
  },
  {
   "cell_type": "code",
   "execution_count": 6,
   "id": "c1364d1a-759b-4670-a53c-f4852a103257",
   "metadata": {},
   "outputs": [],
   "source": [
    "#Steve Jobs murio teniendo un patrimonio de $8300 millones de dólares\n",
    "#patrimonio neto cuando murio - precio de acciones apple - precio acciones disney\n",
    "Jobs= 8300 - 286.74 -  7400\n",
    "#tenia un total de 5.5 millones de acciones apple y 138 millones de acciones disney"
   ]
  },
  {
   "cell_type": "code",
   "execution_count": 7,
   "id": "f962c76c-b380-4894-a58d-41c5b8d66562",
   "metadata": {},
   "outputs": [],
   "source": [
    "driver = webdriver.Chrome()\n",
    "driver.get(\"https://finance.yahoo.com/quote/AAPL?p=AAPL&.tsrc=fin-srch\")\n",
    "content = driver.page_source\n",
    "soup = BeautifulSoup(content)"
   ]
  },
  {
   "cell_type": "code",
   "execution_count": 8,
   "id": "28b68abd-28d3-4c93-b4ff-a4f70f8e467a",
   "metadata": {},
   "outputs": [
    {
     "data": {
      "text/plain": [
       "'174.33'"
      ]
     },
     "execution_count": 8,
     "metadata": {},
     "output_type": "execute_result"
    }
   ],
   "source": [
    "accionapple= [x.text for x in soup.select(\"div[class='D(ib) Va(m) Maw(65%) Ov(h)'] > * > * \")][0]\n",
    "accionapple"
   ]
  },
  {
   "cell_type": "code",
   "execution_count": 9,
   "id": "f45d5c8b-a99e-4450-a027-33d0a3b5cd90",
   "metadata": {},
   "outputs": [],
   "source": [
    "driver.get(\"https://finance.yahoo.com/quote/DIS?p=DIS&.tsrc=fin-srch\")\n",
    "content = driver.page_source\n",
    "soup = BeautifulSoup(content)"
   ]
  },
  {
   "cell_type": "code",
   "execution_count": 10,
   "id": "70fb5d5b-7e0f-4fa6-bc5b-516df5459d75",
   "metadata": {},
   "outputs": [
    {
     "data": {
      "text/plain": [
       "'149.10'"
      ]
     },
     "execution_count": 10,
     "metadata": {},
     "output_type": "execute_result"
    }
   ],
   "source": [
    "acciondisney= [x.text for x in soup.select(\"div[class='D(ib) Va(m) Maw(65%) Ov(h)'] > * > * \")][0]\n",
    "#disneyUSD= float(acciondisney[0]) * 20\n",
    "acciondisney"
   ]
  },
  {
   "cell_type": "code",
   "execution_count": 11,
   "id": "4ec98e15-0033-47ae-9f3b-fd8d276498ba",
   "metadata": {},
   "outputs": [
    {
     "data": {
      "text/plain": [
       "'21,534,615,613'"
      ]
     },
     "execution_count": 11,
     "metadata": {},
     "output_type": "execute_result"
    }
   ],
   "source": [
    "TotalJobs= Jobs + (float(accionapple) * 5500000) + (float(acciondisney) * 138000000)\n",
    "format(int(TotalJobs), ',d')"
   ]
  },
  {
   "cell_type": "markdown",
   "id": "ad07bed0-282a-4ea6-bed0-28b6b4a59405",
   "metadata": {},
   "source": [
    "# Acciones"
   ]
  },
  {
   "cell_type": "code",
   "execution_count": 12,
   "id": "8a2767bc-e499-4c0a-b5d7-a1bed3412fee",
   "metadata": {},
   "outputs": [
    {
     "data": {
      "text/html": [
       "<div>\n",
       "<style scoped>\n",
       "    .dataframe tbody tr th:only-of-type {\n",
       "        vertical-align: middle;\n",
       "    }\n",
       "\n",
       "    .dataframe tbody tr th {\n",
       "        vertical-align: top;\n",
       "    }\n",
       "\n",
       "    .dataframe thead th {\n",
       "        text-align: right;\n",
       "    }\n",
       "</style>\n",
       "<table border=\"1\" class=\"dataframe\">\n",
       "  <thead>\n",
       "    <tr style=\"text-align: right;\">\n",
       "      <th></th>\n",
       "      <th>0</th>\n",
       "      <th>1</th>\n",
       "      <th>2</th>\n",
       "      <th>3</th>\n",
       "      <th>4</th>\n",
       "      <th>5</th>\n",
       "      <th>6</th>\n",
       "    </tr>\n",
       "  </thead>\n",
       "  <tbody>\n",
       "    <tr>\n",
       "      <th>0</th>\n",
       "      <td>Date</td>\n",
       "      <td>Open</td>\n",
       "      <td>High</td>\n",
       "      <td>Low</td>\n",
       "      <td>Close</td>\n",
       "      <td>Adj Close</td>\n",
       "      <td>Volume</td>\n",
       "    </tr>\n",
       "    <tr>\n",
       "      <th>1</th>\n",
       "      <td>1985-01-01</td>\n",
       "      <td>0.130022</td>\n",
       "      <td>0.138951</td>\n",
       "      <td>0.124442</td>\n",
       "      <td>0.129464</td>\n",
       "      <td>0.101327</td>\n",
       "      <td>6366416000</td>\n",
       "    </tr>\n",
       "    <tr>\n",
       "      <th>2</th>\n",
       "      <td>1985-02-01</td>\n",
       "      <td>0.129464</td>\n",
       "      <td>0.137277</td>\n",
       "      <td>0.110491</td>\n",
       "      <td>0.110491</td>\n",
       "      <td>0.086477</td>\n",
       "      <td>4733388800</td>\n",
       "    </tr>\n",
       "    <tr>\n",
       "      <th>3</th>\n",
       "      <td>1985-03-01</td>\n",
       "      <td>0.110491</td>\n",
       "      <td>0.116071</td>\n",
       "      <td>0.092634</td>\n",
       "      <td>0.098772</td>\n",
       "      <td>0.077305</td>\n",
       "      <td>4615587200</td>\n",
       "    </tr>\n",
       "    <tr>\n",
       "      <th>4</th>\n",
       "      <td>1985-04-01</td>\n",
       "      <td>0.098772</td>\n",
       "      <td>0.102679</td>\n",
       "      <td>0.087612</td>\n",
       "      <td>0.094866</td>\n",
       "      <td>0.074248</td>\n",
       "      <td>2868028800</td>\n",
       "    </tr>\n",
       "    <tr>\n",
       "      <th>...</th>\n",
       "      <td>...</td>\n",
       "      <td>...</td>\n",
       "      <td>...</td>\n",
       "      <td>...</td>\n",
       "      <td>...</td>\n",
       "      <td>...</td>\n",
       "      <td>...</td>\n",
       "    </tr>\n",
       "    <tr>\n",
       "      <th>440</th>\n",
       "      <td>2021-08-01</td>\n",
       "      <td>146.360001</td>\n",
       "      <td>153.490005</td>\n",
       "      <td>144.500000</td>\n",
       "      <td>151.830002</td>\n",
       "      <td>151.381927</td>\n",
       "      <td>1460744100</td>\n",
       "    </tr>\n",
       "    <tr>\n",
       "      <th>441</th>\n",
       "      <td>2021-09-01</td>\n",
       "      <td>152.830002</td>\n",
       "      <td>157.259995</td>\n",
       "      <td>141.270004</td>\n",
       "      <td>141.500000</td>\n",
       "      <td>141.293793</td>\n",
       "      <td>1797465800</td>\n",
       "    </tr>\n",
       "    <tr>\n",
       "      <th>442</th>\n",
       "      <td>2021-10-01</td>\n",
       "      <td>141.899994</td>\n",
       "      <td>153.169998</td>\n",
       "      <td>138.270004</td>\n",
       "      <td>149.800003</td>\n",
       "      <td>149.581696</td>\n",
       "      <td>1564866800</td>\n",
       "    </tr>\n",
       "    <tr>\n",
       "      <th>443</th>\n",
       "      <td>2021-11-01</td>\n",
       "      <td>148.990005</td>\n",
       "      <td>165.699997</td>\n",
       "      <td>147.479996</td>\n",
       "      <td>165.300003</td>\n",
       "      <td>165.059113</td>\n",
       "      <td>1690808300</td>\n",
       "    </tr>\n",
       "    <tr>\n",
       "      <th>444</th>\n",
       "      <td>2021-12-01</td>\n",
       "      <td>167.479996</td>\n",
       "      <td>182.130005</td>\n",
       "      <td>157.800003</td>\n",
       "      <td>175.740005</td>\n",
       "      <td>175.740005</td>\n",
       "      <td>1128122800</td>\n",
       "    </tr>\n",
       "  </tbody>\n",
       "</table>\n",
       "<p>445 rows × 7 columns</p>\n",
       "</div>"
      ],
      "text/plain": [
       "              0           1           2           3           4           5  \\\n",
       "0          Date        Open        High         Low       Close   Adj Close   \n",
       "1    1985-01-01    0.130022    0.138951    0.124442    0.129464    0.101327   \n",
       "2    1985-02-01    0.129464    0.137277    0.110491    0.110491    0.086477   \n",
       "3    1985-03-01    0.110491    0.116071    0.092634    0.098772    0.077305   \n",
       "4    1985-04-01    0.098772    0.102679    0.087612    0.094866    0.074248   \n",
       "..          ...         ...         ...         ...         ...         ...   \n",
       "440  2021-08-01  146.360001  153.490005  144.500000  151.830002  151.381927   \n",
       "441  2021-09-01  152.830002  157.259995  141.270004  141.500000  141.293793   \n",
       "442  2021-10-01  141.899994  153.169998  138.270004  149.800003  149.581696   \n",
       "443  2021-11-01  148.990005  165.699997  147.479996  165.300003  165.059113   \n",
       "444  2021-12-01  167.479996  182.130005  157.800003  175.740005  175.740005   \n",
       "\n",
       "              6  \n",
       "0        Volume  \n",
       "1    6366416000  \n",
       "2    4733388800  \n",
       "3    4615587200  \n",
       "4    2868028800  \n",
       "..          ...  \n",
       "440  1460744100  \n",
       "441  1797465800  \n",
       "442  1564866800  \n",
       "443  1690808300  \n",
       "444  1128122800  \n",
       "\n",
       "[445 rows x 7 columns]"
      ]
     },
     "execution_count": 12,
     "metadata": {},
     "output_type": "execute_result"
    }
   ],
   "source": [
    "AAPL = pd.read_csv(\"AAPL.csv\", header=None)\n",
    "AAPL"
   ]
  },
  {
   "cell_type": "code",
   "execution_count": 13,
   "id": "1d167c4c-9fe1-4185-91f0-8f57921528e4",
   "metadata": {},
   "outputs": [],
   "source": [
    "fechas= [x.replace(\"-01-01\",\"\") for x in AAPL[0][1::12]]\n",
    "precio= [float(x) for x in AAPL[2][1::12]]"
   ]
  },
  {
   "cell_type": "code",
   "execution_count": 14,
   "id": "6a84d8d1-ff0a-46fe-b8ce-f0d13457b76c",
   "metadata": {},
   "outputs": [
    {
     "name": "stdout",
     "output_type": "stream",
     "text": [
      "['1985', '1986', '1987', '1988', '1989', '1990', '1991', '1992', '1993', '1994', '1995', '1996', '1997', '1998', '1999', '2000', '2001', '2002', '2003', '2004', '2005', '2006', '2007', '2008', '2009', '2010', '2011', '2012', '2013', '2014', '2015', '2016', '2017', '2018', '2019', '2020', '2021']\n",
      "[0.138951, 0.110491, 0.25558, 0.412946, 0.392857, 0.345982, 0.5, 0.616071, 0.582589, 0.314732, 0.429129, 0.316964, 0.198661, 0.178571, 0.422433, 1.084821, 0.401786, 0.441607, 0.274643, 0.443571, 1.390893, 3.085714, 3.492857, 7.152143, 3.470357, 7.699643, 12.45, 16.365713, 19.821428, 20.007143, 30.0, 26.4625, 30.610001, 45.025002, 42.25, 81.962502, 145.089996]\n"
     ]
    }
   ],
   "source": [
    "print(fechas)\n",
    "print(precio)"
   ]
  },
  {
   "cell_type": "code",
   "execution_count": 15,
   "id": "acaafed4-47f8-4e72-9037-2fee1470b834",
   "metadata": {},
   "outputs": [
    {
     "data": {
      "image/png": "[encoded data removed]",
      "text/plain": [
       "<Figure size 1440x720 with 1 Axes>"
      ]
     },
     "metadata": {
      "needs_background": "light"
     },
     "output_type": "display_data"
    },
    {
     "data": {
      "text/plain": [
       "<Figure size 1440x720 with 0 Axes>"
      ]
     },
     "metadata": {},
     "output_type": "display_data"
    }
   ],
   "source": [
    "plt.rcParams[\"figure.figsize\"] = (20,10)\n",
    "plt.plot(fechas,precio)\n",
    "plt.show()\n",
    "plt.savefig(\"acciones_apple.jpg\")"
   ]
  },
  {
   "cell_type": "markdown",
   "id": "b2b527fc-61fd-4636-9a1d-6b9b40a4fc66",
   "metadata": {},
   "source": [
    "# Disney"
   ]
  },
  {
   "cell_type": "markdown",
   "id": "2cc9899f-fd46-43ba-86ad-0f420bad0625",
   "metadata": {},
   "source": [
    "Disney comrpó a pixar en el 2006"
   ]
  },
  {
   "cell_type": "code",
   "execution_count": 16,
   "id": "1f6d2c97-3715-43af-86cc-61be9804001c",
   "metadata": {},
   "outputs": [
    {
     "data": {
      "text/html": [
       "<div>\n",
       "<style scoped>\n",
       "    .dataframe tbody tr th:only-of-type {\n",
       "        vertical-align: middle;\n",
       "    }\n",
       "\n",
       "    .dataframe tbody tr th {\n",
       "        vertical-align: top;\n",
       "    }\n",
       "\n",
       "    .dataframe thead th {\n",
       "        text-align: right;\n",
       "    }\n",
       "</style>\n",
       "<table border=\"1\" class=\"dataframe\">\n",
       "  <thead>\n",
       "    <tr style=\"text-align: right;\">\n",
       "      <th></th>\n",
       "      <th>0</th>\n",
       "      <th>1</th>\n",
       "      <th>2</th>\n",
       "      <th>3</th>\n",
       "      <th>4</th>\n",
       "      <th>5</th>\n",
       "      <th>6</th>\n",
       "    </tr>\n",
       "  </thead>\n",
       "  <tbody>\n",
       "    <tr>\n",
       "      <th>0</th>\n",
       "      <td>Date</td>\n",
       "      <td>Open</td>\n",
       "      <td>High</td>\n",
       "      <td>Low</td>\n",
       "      <td>Close</td>\n",
       "      <td>Adj Close</td>\n",
       "      <td>Volume</td>\n",
       "    </tr>\n",
       "    <tr>\n",
       "      <th>1</th>\n",
       "      <td>1985-01-01</td>\n",
       "      <td>1.233125</td>\n",
       "      <td>1.543975</td>\n",
       "      <td>1.217711</td>\n",
       "      <td>1.528561</td>\n",
       "      <td>1.081137</td>\n",
       "      <td>278059404</td>\n",
       "    </tr>\n",
       "    <tr>\n",
       "      <th>2</th>\n",
       "      <td>1985-02-01</td>\n",
       "      <td>1.528561</td>\n",
       "      <td>1.667288</td>\n",
       "      <td>1.502871</td>\n",
       "      <td>1.600493</td>\n",
       "      <td>1.132013</td>\n",
       "      <td>138915358</td>\n",
       "    </tr>\n",
       "    <tr>\n",
       "      <th>3</th>\n",
       "      <td>1985-03-01</td>\n",
       "      <td>1.600493</td>\n",
       "      <td>1.649305</td>\n",
       "      <td>1.513147</td>\n",
       "      <td>1.618477</td>\n",
       "      <td>1.144733</td>\n",
       "      <td>101605272</td>\n",
       "    </tr>\n",
       "    <tr>\n",
       "      <th>4</th>\n",
       "      <td>1985-04-01</td>\n",
       "      <td>1.608201</td>\n",
       "      <td>1.654443</td>\n",
       "      <td>1.564527</td>\n",
       "      <td>1.574803</td>\n",
       "      <td>1.118192</td>\n",
       "      <td>68255854</td>\n",
       "    </tr>\n",
       "    <tr>\n",
       "      <th>...</th>\n",
       "      <td>...</td>\n",
       "      <td>...</td>\n",
       "      <td>...</td>\n",
       "      <td>...</td>\n",
       "      <td>...</td>\n",
       "      <td>...</td>\n",
       "      <td>...</td>\n",
       "    </tr>\n",
       "    <tr>\n",
       "      <th>440</th>\n",
       "      <td>2021-08-01</td>\n",
       "      <td>177.220001</td>\n",
       "      <td>187.580002</td>\n",
       "      <td>170.919998</td>\n",
       "      <td>181.300003</td>\n",
       "      <td>181.300003</td>\n",
       "      <td>180739200</td>\n",
       "    </tr>\n",
       "    <tr>\n",
       "      <th>441</th>\n",
       "      <td>2021-09-01</td>\n",
       "      <td>181.960007</td>\n",
       "      <td>187.580002</td>\n",
       "      <td>169.029999</td>\n",
       "      <td>169.169998</td>\n",
       "      <td>169.169998</td>\n",
       "      <td>183732800</td>\n",
       "    </tr>\n",
       "    <tr>\n",
       "      <th>442</th>\n",
       "      <td>2021-10-01</td>\n",
       "      <td>172.279999</td>\n",
       "      <td>179.630005</td>\n",
       "      <td>168.149994</td>\n",
       "      <td>169.070007</td>\n",
       "      <td>169.070007</td>\n",
       "      <td>181065900</td>\n",
       "    </tr>\n",
       "    <tr>\n",
       "      <th>443</th>\n",
       "      <td>2021-11-01</td>\n",
       "      <td>169.210007</td>\n",
       "      <td>179.250000</td>\n",
       "      <td>143.110001</td>\n",
       "      <td>144.899994</td>\n",
       "      <td>144.899994</td>\n",
       "      <td>349346700</td>\n",
       "    </tr>\n",
       "    <tr>\n",
       "      <th>444</th>\n",
       "      <td>2021-12-01</td>\n",
       "      <td>146.699997</td>\n",
       "      <td>154.660004</td>\n",
       "      <td>142.039993</td>\n",
       "      <td>150.429993</td>\n",
       "      <td>150.429993</td>\n",
       "      <td>123782300</td>\n",
       "    </tr>\n",
       "  </tbody>\n",
       "</table>\n",
       "<p>445 rows × 7 columns</p>\n",
       "</div>"
      ],
      "text/plain": [
       "              0           1           2           3           4           5  \\\n",
       "0          Date        Open        High         Low       Close   Adj Close   \n",
       "1    1985-01-01    1.233125    1.543975    1.217711    1.528561    1.081137   \n",
       "2    1985-02-01    1.528561    1.667288    1.502871    1.600493    1.132013   \n",
       "3    1985-03-01    1.600493    1.649305    1.513147    1.618477    1.144733   \n",
       "4    1985-04-01    1.608201    1.654443    1.564527    1.574803    1.118192   \n",
       "..          ...         ...         ...         ...         ...         ...   \n",
       "440  2021-08-01  177.220001  187.580002  170.919998  181.300003  181.300003   \n",
       "441  2021-09-01  181.960007  187.580002  169.029999  169.169998  169.169998   \n",
       "442  2021-10-01  172.279999  179.630005  168.149994  169.070007  169.070007   \n",
       "443  2021-11-01  169.210007  179.250000  143.110001  144.899994  144.899994   \n",
       "444  2021-12-01  146.699997  154.660004  142.039993  150.429993  150.429993   \n",
       "\n",
       "             6  \n",
       "0       Volume  \n",
       "1    278059404  \n",
       "2    138915358  \n",
       "3    101605272  \n",
       "4     68255854  \n",
       "..         ...  \n",
       "440  180739200  \n",
       "441  183732800  \n",
       "442  181065900  \n",
       "443  349346700  \n",
       "444  123782300  \n",
       "\n",
       "[445 rows x 7 columns]"
      ]
     },
     "execution_count": 16,
     "metadata": {},
     "output_type": "execute_result"
    }
   ],
   "source": [
    "DIS = pd.read_csv(\"DIS.csv\", header=None)\n",
    "DIS"
   ]
  },
  {
   "cell_type": "code",
   "execution_count": 17,
   "id": "700eb678-da78-4096-a0bb-4ae5e4e7d34a",
   "metadata": {},
   "outputs": [],
   "source": [
    "fechasD= [x.replace(\"-01-01\",\"\") for x in DIS[0][1::12]]\n",
    "precioD= [float(x) for x in DIS[2][1::12]]"
   ]
  },
  {
   "cell_type": "code",
   "execution_count": 18,
   "id": "790f5d45-e062-4e56-9249-1c8d11023ef7",
   "metadata": {},
   "outputs": [
    {
     "name": "stdout",
     "output_type": "stream",
     "text": [
      "['1985', '1986', '1987', '1988', '1989', '1990', '1991', '1992', '1993', '1994', '1995', '1996', '1997', '1998', '1999', '2000', '2001', '2002', '2003', '2004', '2005', '2006', '2007', '2008', '2009', '2010', '2011', '2012', '2013', '2014', '2015', '2016', '2017', '2018', '2019', '2020', '2021']\n",
      "[1.543975, 2.553596, 4.685875, 5.364094, 6.175901, 9.680031, 8.940156, 11.766068, 15.331854, 15.907313, 16.893812, 21.168646, 24.580292, 35.637314, 38.165218, 37.487, 33.541, 23.281401, 18.289709, 24.741421, 28.549311, 26.14225, 35.484406, 32.630001, 24.83, 32.75, 40.0, 40.25, 54.869999, 76.839996, 96.43, 103.43, 111.050003, 113.190002, 113.18, 148.199997, 182.589996]\n"
     ]
    }
   ],
   "source": [
    "print(fechasD)\n",
    "print(precioD)"
   ]
  },
  {
   "cell_type": "code",
   "execution_count": 19,
   "id": "c0d2ebbd-670d-455a-9d93-8e982cf93bdb",
   "metadata": {},
   "outputs": [
    {
     "data": {
      "image/png": "[encoded data removed]",
      "text/plain": [
       "<Figure size 1440x720 with 1 Axes>"
      ]
     },
     "metadata": {
      "needs_background": "light"
     },
     "output_type": "display_data"
    },
    {
     "data": {
      "text/plain": [
       "<Figure size 1440x720 with 0 Axes>"
      ]
     },
     "metadata": {},
     "output_type": "display_data"
    }
   ],
   "source": [
    "plt.rcParams[\"figure.figsize\"] = (20,10)\n",
    "plt.plot(fechasD,precioD)\n",
    "plt.show()\n",
    "plt.savefig(\"acciones_Diseny.jpg\")"
   ]
  },
  {
   "cell_type": "code",
   "execution_count": null,
   "id": "c621b1fe-59e0-4e06-b983-0b16c2d69abd",
   "metadata": {},
   "outputs": [],
   "source": []
  }
 ],
 "metadata": {
  "kernelspec": {
   "display_name": "Python 3 (ipykernel)",
   "language": "python",
   "name": "python3"
  },
  "language_info": {
   "codemirror_mode": {
    "name": "ipython",
    "version": 3
   },
   "file_extension": ".py",
   "mimetype": "text/x-python",
   "name": "python",
   "nbconvert_exporter": "python",
   "pygments_lexer": "ipython3",
   "version": "3.10.0"
  }
 },
 "nbformat": 4,
 "nbformat_minor": 5
}
